{
 "cells": [
  {
   "cell_type": "markdown",
   "metadata": {
    "slideshow": {
     "slide_type": "slide"
    }
   },
   "source": [
    "# <center>Python语言基础</center>\n",
    "\n",
    "- 语句\n",
    "- 运算符\n",
    "- 标识符\n",
    "- 对象引用\n",
    "- 变量与赋值\n",
    "- 数据类型\n",
    "- 类与对象的声明与调用\n",
    "- 函数\n",
    "- 模块和包\n",
    "- 注释"
   ]
  },
  {
   "cell_type": "markdown",
   "metadata": {
    "slideshow": {
     "slide_type": "slide"
    }
   },
   "source": [
    "## 语句\n",
    "### Python 语句\n",
    "- 简单语句\n",
    "    - 表达式、赋值、assert、del、return、yield、raise、break、continue、import、global、nonlocal、pass\n",
    "- 复合语句\n",
    "    - if、while、for、try、with、def、class"
   ]
  },
  {
   "cell_type": "markdown",
   "metadata": {
    "slideshow": {
     "slide_type": "subslide"
    }
   },
   "source": [
    "### Python语句书写规则\n",
    "- 每行一条\n",
    "- 行首不能有空格\n",
    "- `\\`换行\n",
    "- `;`多行语句\n",
    "- 复合语句强制缩进\n",
    "- 注释 `#`\n",
    "- PEP8 https://www.python.org/dev/peps/pep-0008/\n",
    "\n",
    "### 空语句\n",
    "- pass"
   ]
  },
  {
   "cell_type": "markdown",
   "metadata": {
    "slideshow": {
     "slide_type": "slide"
    }
   },
   "source": [
    "## 运算符\n",
    "- +、-、*、/、**\n",
    "- or、and、not\n",
    "- in、not in\n",
    "- is、is not\n",
    "- \\>、>=、<、<=、!=、==\n",
    "- lambda"
   ]
  },
  {
   "cell_type": "markdown",
   "metadata": {
    "slideshow": {
     "slide_type": "slide"
    }
   },
   "source": [
    "## 标识符\n",
    "- 变量、函数、类、对象等的名称\n",
    "- 首字符必须为字母或下划线\n",
    "- 大小写敏感\n",
    "- 关键字\n",
    "- 命名规则\n",
    "    - 模块/包 全小写\n",
    "    - 函数名 全小写（或首字母小写，各单词首字母大写）\n",
    "    - 变量名 全小写（或首字母小写，各单词首字母大写）\n",
    "    - 类名 每个单词首字母大写\n",
    "    - 常量 全大写"
   ]
  },
  {
   "cell_type": "markdown",
   "metadata": {
    "slideshow": {
     "slide_type": "slide"
    }
   },
   "source": [
    "## 对象与引用\n",
    "- 对象的类型和标识\n",
    "    - type\n",
    "    - id"
   ]
  },
  {
   "cell_type": "code",
   "execution_count": null,
   "metadata": {
    "slideshow": {
     "slide_type": "fragment"
    }
   },
   "outputs": [],
   "source": [
    "x = 1\n",
    "print type(x), id(x)"
   ]
  },
  {
   "cell_type": "markdown",
   "metadata": {
    "slideshow": {
     "slide_type": "fragment"
    }
   },
   "source": [
    "- 对象比较和类型判断\n",
    "    - `==`\n",
    "    - `is`"
   ]
  },
  {
   "cell_type": "markdown",
   "metadata": {
    "slideshow": {
     "slide_type": "subslide"
    }
   },
   "source": [
    "### 可变对象与不可变对象\n",
    "- 不可变对象\n",
    "    创建后不能修改，如int、str、tuple等，Python中大部分数据类型都是不可变的。\n",
    "- 可变对象\n",
    "    创建后可以修改，如list、dict、set等。"
   ]
  },
  {
   "cell_type": "code",
   "execution_count": null,
   "metadata": {},
   "outputs": [],
   "source": [
    "s = 'abc'\n",
    "print id(s)\n",
    "b = s.replace('a','0')\n",
    "print id(s), id(b)"
   ]
  },
  {
   "cell_type": "markdown",
   "metadata": {
    "slideshow": {
     "slide_type": "slide"
    }
   },
   "source": [
    "## 变量和赋值\n",
    "\n",
    "- 变量无需显式声明，解释器自动确定其类型\n",
    "- Python是强类型语言，每个变量都属于一个数据类型\n",
    "- 链式赋值"
   ]
  },
  {
   "cell_type": "code",
   "execution_count": null,
   "metadata": {},
   "outputs": [],
   "source": [
    "a = b = c = 1\n",
    "print a, b, c"
   ]
  },
  {
   "cell_type": "markdown",
   "metadata": {},
   "source": [
    "- 复合赋值 +=、-=、*=、/= ... \n"
   ]
  },
  {
   "cell_type": "markdown",
   "metadata": {
    "slideshow": {
     "slide_type": "subslide"
    }
   },
   "source": [
    "- 手动删除变量 `del`"
   ]
  },
  {
   "cell_type": "code",
   "execution_count": null,
   "metadata": {},
   "outputs": [],
   "source": [
    "x = 1\n",
    "del x\n",
    "print x"
   ]
  },
  {
   "cell_type": "markdown",
   "metadata": {},
   "source": [
    "- 系列解包赋值（变量个数必须一致）"
   ]
  },
  {
   "cell_type": "code",
   "execution_count": null,
   "metadata": {},
   "outputs": [],
   "source": [
    "t1 = 1, 2, 3\n",
    "t2 = (1, 2, 3)\n",
    "print type(t1), type(t2)\n",
    "a = 1\n",
    "b = 2\n",
    "a, b = b, a\n",
    "print a, b"
   ]
  },
  {
   "cell_type": "markdown",
   "metadata": {
    "slideshow": {
     "slide_type": "slide"
    }
   },
   "source": [
    "## 数据类型\n",
    "- 特殊类型\n",
    "    - None\n",
    "    - NotImplemented\n",
    "        被二元特殊方法返回（比如__eq__()、__lt__()、__add__()、__rsub__()等），表明某个类型没有像其他类型那样实现这些操作\n",
    "    - Ellipsis\n",
    "        省略号"
   ]
  },
  {
   "cell_type": "code",
   "execution_count": null,
   "metadata": {},
   "outputs": [],
   "source": [
    "L = [1,2,3]\n",
    "L.append(L)\n",
    "print(L)"
   ]
  },
  {
   "cell_type": "markdown",
   "metadata": {
    "slideshow": {
     "slide_type": "subslide"
    }
   },
   "source": [
    "- 数值类型\n",
    "    - int\n",
    "    - bool\n",
    "    - float\n",
    "    - complex\n",
    "- 序列数据类型\n",
    "    - str\n",
    "    - tuple\n",
    "    - bytes\n",
    "    - list\n",
    "    - bytearray\n"
   ]
  },
  {
   "cell_type": "markdown",
   "metadata": {
    "slideshow": {
     "slide_type": "subslide"
    }
   },
   "source": [
    "- 集合数据类型\n",
    "    - set\n",
    "- 字典数据类型\n",
    "    - dict\n",
    "- 其他类型\n",
    "    - 可调用类型，如函数、方法、类、对象、模块"
   ]
  },
  {
   "cell_type": "markdown",
   "metadata": {
    "slideshow": {
     "slide_type": "slide"
    }
   },
   "source": [
    "## 类的声明、对象的创建与调用\n",
    "- 类的声明\n",
    "    `class`\n",
    "- 对象创建与调用\n",
    "    `ClassName()`"
   ]
  },
  {
   "cell_type": "code",
   "execution_count": null,
   "metadata": {},
   "outputs": [],
   "source": [
    "class Person:\n",
    "    pass\n",
    "p = Person()"
   ]
  },
  {
   "cell_type": "markdown",
   "metadata": {
    "slideshow": {
     "slide_type": "slide"
    }
   },
   "source": [
    "## 函数\n",
    "- 函数声明\n",
    "    `def`"
   ]
  },
  {
   "cell_type": "code",
   "execution_count": null,
   "metadata": {},
   "outputs": [],
   "source": [
    "def hello(name):\n",
    "    print 'Hello', name\n",
    "hello(\"张三\")"
   ]
  },
  {
   "cell_type": "markdown",
   "metadata": {},
   "source": [
    "- 模块"
   ]
  },
  {
   "cell_type": "code",
   "execution_count": null,
   "metadata": {},
   "outputs": [],
   "source": [
    "import math\n",
    "print math.sin(math.pi)"
   ]
  },
  {
   "cell_type": "markdown",
   "metadata": {
    "slideshow": {
     "slide_type": "subslide"
    }
   },
   "source": [
    "- 输入\n",
    "    - input\n",
    "    - raw_input\n",
    "- 输出\n",
    "    - print\n",
    "- 输入密码\n",
    "    - getpass.getpass"
   ]
  },
  {
   "cell_type": "code",
   "execution_count": null,
   "metadata": {
    "scrolled": true
   },
   "outputs": [],
   "source": [
    "print input('Please input a data:')"
   ]
  },
  {
   "cell_type": "code",
   "execution_count": null,
   "metadata": {},
   "outputs": [],
   "source": [
    "print raw_input('Please input something:')"
   ]
  },
  {
   "cell_type": "code",
   "execution_count": null,
   "metadata": {},
   "outputs": [],
   "source": [
    "import getpass\n",
    "print getpass.getpass(\"密码：\")"
   ]
  },
  {
   "cell_type": "markdown",
   "metadata": {
    "slideshow": {
     "slide_type": "slide"
    }
   },
   "source": [
    "## 模块和包\n",
    "- 模块和包的导入方式（以math为例）\n",
    "    - `import math`\n",
    "    - `import math as m`\n",
    "    - `from math import sin`\n",
    "    - `from math import *`"
   ]
  },
  {
   "cell_type": "markdown",
   "metadata": {
    "slideshow": {
     "slide_type": "slide"
    }
   },
   "source": [
    "## Python文档注释\n",
    "\n",
    "- 文档字符串\n",
    "    - 在代码特定位置添加的描述性文字，用以说明包、模块、函数、类、类方法等相关信息\n",
    "    - 为多行文本，通常在相应数据类型的第一个逻辑行\n",
    "- 文档字符串的使用\n",
    "    - 直接阅读\n",
    "    - `help`函数\n",
    "    - `__doc__`属性\n",
    "    - 自动化文档生成工具，如`epydoc`、`DoxyGen`"
   ]
  },
  {
   "cell_type": "code",
   "execution_count": null,
   "metadata": {
    "slideshow": {
     "slide_type": "subslide"
    }
   },
   "outputs": [],
   "source": [
    "def myfun():\n",
    "    '''这里是文档字符串，\n",
    "    可以查看关于函数的信息，特别是功能、参数、输出、定义等\n",
    "    '''\n",
    "help(myfun)\n",
    "print myfun.__doc__"
   ]
  },
  {
   "cell_type": "markdown",
   "metadata": {
    "slideshow": {
     "slide_type": "subslide"
    }
   },
   "source": [
    "### 文档注释规范（仅供参考，有多种标准）\n",
    "- `@author AuthorName` 作者\n",
    "- `@contact AuthorContact` 作者联系方式\n",
    "- `@param p` 参数p说明\n",
    "- `@type p` 参数p类型\n",
    "- `@return` 返回值说明\n",
    "- `@rtype` 返回值类型"
   ]
  }
 ],
 "metadata": {
  "celltoolbar": "Slideshow",
  "kernelspec": {
   "display_name": "Python 2",
   "language": "python",
   "name": "python2"
  },
  "language_info": {
   "codemirror_mode": {
    "name": "ipython",
    "version": 2
   },
   "file_extension": ".py",
   "mimetype": "text/x-python",
   "name": "python",
   "nbconvert_exporter": "python",
   "pygments_lexer": "ipython2",
   "version": "2.7.14"
  }
 },
 "nbformat": 4,
 "nbformat_minor": 2
}
