{
 "cells": [
  {
   "cell_type": "markdown",
   "metadata": {
    "slideshow": {
     "slide_type": "slide"
    }
   },
   "source": [
    "## <center>序列：列表、元组与字符串</center>"
   ]
  },
  {
   "cell_type": "markdown",
   "metadata": {
    "slideshow": {
     "slide_type": "slide"
    }
   },
   "source": [
    "## 序列（sequence）\n",
    "- 列表\n",
    "- 元组\n",
    "- 字符串\n",
    "- bytes\n",
    "- bytearray"
   ]
  },
  {
   "cell_type": "markdown",
   "metadata": {
    "slideshow": {
     "slide_type": "slide"
    }
   },
   "source": [
    "## 序列的基本操作\n",
    "- 索引访问\n",
    "- 切片\n",
    "- 连接和重复"
   ]
  },
  {
   "cell_type": "code",
   "execution_count": null,
   "metadata": {
    "scrolled": true,
    "slideshow": {
     "slide_type": "-"
    }
   },
   "outputs": [],
   "source": [
    "x = [0, 1, 2, 3, 4, 5, 6, 7, 8, 9] # 索引\n",
    "print x[0], x[-1]\n",
    "\n",
    "print x[0:3], x[3:-3] # 切片\n",
    "print x[0:8:2]\n",
    "\n",
    "y = ['a', 'b', 'c'] # 连接和重复\n",
    "print x + y\n",
    "print x + y * 2"
   ]
  },
  {
   "cell_type": "markdown",
   "metadata": {
    "slideshow": {
     "slide_type": "subslide"
    }
   },
   "source": [
    "- 成员关系"
   ]
  },
  {
   "cell_type": "code",
   "execution_count": 2,
   "metadata": {
    "scrolled": true
   },
   "outputs": [
    {
     "name": "stdout",
     "output_type": "stream",
     "text": [
      "True\n",
      "True\n",
      "1\n",
      "10\n"
     ]
    }
   ],
   "source": [
    "x = [0, 1, 2, 3, 4, 5, 6, 7, 8, 9, ('a', 'b')]\n",
    "print 0 in x\n",
    "print 10 not in x\n",
    "print x.count(9)\n",
    "print x.index(('a', 'b'))"
   ]
  },
  {
   "cell_type": "markdown",
   "metadata": {
    "slideshow": {
     "slide_type": "subslide"
    }
   },
   "source": [
    "- 排序\n",
    "- 常用函数 len, max, min, sum"
   ]
  },
  {
   "cell_type": "code",
   "execution_count": 3,
   "metadata": {
    "scrolled": true,
    "slideshow": {
     "slide_type": "-"
    }
   },
   "outputs": [
    {
     "name": "stdout",
     "output_type": "stream",
     "text": [
      "[1, 2, 3, 4]\n",
      "[4, 3, 2, 1]\n",
      "[3, 2, 4, 1]\n",
      "4 4 1 10\n"
     ]
    }
   ],
   "source": [
    "y = [1, 4, 2, 3]\n",
    "print sorted(y)\n",
    "print sorted(y, reverse=True)\n",
    "y.reverse()\n",
    "print y\n",
    "\n",
    "print len(y), max(y), min(y), sum(y)"
   ]
  },
  {
   "cell_type": "markdown",
   "metadata": {
    "slideshow": {
     "slide_type": "subslide"
    }
   },
   "source": [
    "- 拆封"
   ]
  },
  {
   "cell_type": "code",
   "execution_count": null,
   "metadata": {
    "slideshow": {
     "slide_type": "-"
    }
   },
   "outputs": [],
   "source": [
    "a, b = [1 ,2]\n",
    "x, y = (1, 2)\n",
    "print a, b\n",
    "print x, y\n",
    "\n",
    "# first, * middles, last = range(10) # 仅运行在python 3上"
   ]
  },
  {
   "cell_type": "markdown",
   "metadata": {
    "slideshow": {
     "slide_type": "slide"
    }
   },
   "source": [
    "## 元组\n",
    "- 元组使用逗号分隔的圆括号或tuple定义\n",
    "- 元组是一种不可变类型\n",
    "- 元组的操作：索引、切片、连接、重复、成员关系、常用函数等"
   ]
  },
  {
   "cell_type": "code",
   "execution_count": 20,
   "metadata": {
    "scrolled": true
   },
   "outputs": [],
   "source": [
    "t = (1, 2, 3,)\n",
    "# t[0] = 0\n",
    "t1 = tuple([1, 2, 3])"
   ]
  },
  {
   "cell_type": "markdown",
   "metadata": {
    "slideshow": {
     "slide_type": "fragment"
    }
   },
   "source": [
    "- 由于小括号也用于函数参数列表，为了避免岐义导致错误，元组最后通常多放一个逗号"
   ]
  },
  {
   "cell_type": "code",
   "execution_count": 4,
   "metadata": {},
   "outputs": [
    {
     "name": "stdout",
     "output_type": "stream",
     "text": [
      "<type 'int'>\n",
      "<type 'tuple'>\n"
     ]
    }
   ],
   "source": [
    "a = (1)\n",
    "print type(a)\n",
    "a = (1,)\n",
    "print type(a)"
   ]
  },
  {
   "cell_type": "markdown",
   "metadata": {
    "slideshow": {
     "slide_type": "slide"
    }
   },
   "source": [
    "## 列表\n",
    "- 列表用方括号或list定义\n",
    "- 列表的基本操作：索引、切片、连接、重复、成员关系、常用函数等\n",
    "- 列表特有的操作：del"
   ]
  },
  {
   "cell_type": "code",
   "execution_count": 26,
   "metadata": {},
   "outputs": [
    {
     "name": "stdout",
     "output_type": "stream",
     "text": [
      "[2, 3, 4, 5, 6]\n"
     ]
    }
   ],
   "source": [
    "l = list() # 空列表\n",
    "l = [1, 2, 3, 4, 5, 6, ]\n",
    "del(l[0])\n",
    "print l"
   ]
  },
  {
   "cell_type": "markdown",
   "metadata": {
    "slideshow": {
     "slide_type": "subslide"
    }
   },
   "source": [
    "- 常用函数\n",
    "    - append\n",
    "    - clear # 仅python3.5\n",
    "    - copy  # 仅python3.5\n",
    "    - extend\n",
    "    - insert\n",
    "    - pop\n",
    "    - remove\n",
    "    - reverse\n",
    "    - sort"
   ]
  },
  {
   "cell_type": "code",
   "execution_count": 47,
   "metadata": {
    "slideshow": {
     "slide_type": "subslide"
    }
   },
   "outputs": [
    {
     "name": "stdout",
     "output_type": "stream",
     "text": [
      "添加元素后 [0, 1]\n",
      "添加列表后 [0, 1, 2, 3]\n",
      "插入元素后 [100, 0, 1, 2, 3]\n",
      "弹出最后一个元素 3\n",
      "弹出元素后 [100, 0, 1, 2]\n",
      "删除元素后 [0, 1, 2]\n",
      "反转后 [2, 1, 0]\n",
      "排序后 [0, 1, 2]\n"
     ]
    }
   ],
   "source": [
    "l = [0]\n",
    "l.append(1)\n",
    "print \"添加元素后\", l\n",
    "l1 = [2, 3]\n",
    "l.extend(l1)\n",
    "print \"添加列表后\", l\n",
    "l.insert(0, 100)\n",
    "print \"插入元素后\", l\n",
    "print \"弹出最后一个元素\", l.pop()\n",
    "print \"弹出元素后\", l\n",
    "l.remove(100)\n",
    "print \"删除元素后\", l\n",
    "l.reverse()\n",
    "print \"反转后\", l\n",
    "l.sort()\n",
    "print \"排序后\", l"
   ]
  },
  {
   "cell_type": "markdown",
   "metadata": {
    "slideshow": {
     "slide_type": "subslide"
    }
   },
   "source": [
    "### 列表生成式\n",
    "- 用于高效地根据现有列表生成新的列表（强烈建议使用）\n",
    "- [expr for i1 in 序列1, for i2 in 序列2, ... ]\n",
    "- [expr for i1 in 序列1, for i2 in 序列2, ..., if cond_expr]"
   ]
  },
  {
   "cell_type": "code",
   "execution_count": 5,
   "metadata": {
    "scrolled": true
   },
   "outputs": [
    {
     "name": "stdout",
     "output_type": "stream",
     "text": [
      "[0, 1, 4, 9, 16]\n",
      "[0, 1, 4, 9, 16, 1, 2, 5, 10, 17, 2, 3, 6, 11, 18, 3, 4, 7, 12, 19, 4, 5, 8, 13, 20]\n",
      "[16, 17, 11, 18, 12, 19, 13, 20]\n",
      "[27, 48, 36, 64]\n"
     ]
    }
   ],
   "source": [
    "l1 = range(5)\n",
    "l2 = [x**2 for x in l1]\n",
    "print l2\n",
    "l3 = [x + y for x in l1 for y in l2]\n",
    "print l3\n",
    "l4 = [x for x in l3 if x > 10]\n",
    "print l4\n",
    "l5 = [x * y for x in l1 for y in l2 if x >2 and y >5]\n",
    "print l5"
   ]
  },
  {
   "cell_type": "markdown",
   "metadata": {
    "slideshow": {
     "slide_type": "slide"
    }
   },
   "source": [
    "## 字符串\n",
    "- Python中字符串是由字符组成的序列\n",
    "- 编码\n",
    "    - Python 2 默认为 ASCII\n",
    "    - Python 3 默认为16位Unicode\n",
    "    - encode\n",
    "    - decode"
   ]
  },
  {
   "cell_type": "code",
   "execution_count": 82,
   "metadata": {},
   "outputs": [
    {
     "name": "stdout",
     "output_type": "stream",
     "text": [
      "97\n",
      "a\n",
      "20013\n",
      "中\n"
     ]
    }
   ],
   "source": [
    "s1 = 'a'\n",
    "s2 = u'中'\n",
    "print ord(s1)\n",
    "print chr(97)\n",
    "print ord(s2)\n",
    "s3 = s2.encode('utf-8')\n",
    "s3\n",
    "print s3\n",
    "# print s3.decode('gb2312')"
   ]
  },
  {
   "cell_type": "markdown",
   "metadata": {
    "slideshow": {
     "slide_type": "subslide"
    }
   },
   "source": [
    "### Python 字符串定义\n",
    "- 单引号\n",
    "- 双引号\n",
    "- 三引号\n",
    "- 原始字符串 r''或r\"\"\n",
    "- Unicode字符串 u''或u\"\"\n",
    "- str"
   ]
  },
  {
   "cell_type": "code",
   "execution_count": null,
   "metadata": {},
   "outputs": [],
   "source": [
    "s1 = 'abc'\n",
    "s2 = \"def\"\n",
    "s3 = '''a\n",
    "b\n",
    "c'''\n",
    "s4 = r'\\ []{}'\n",
    "s5 = u\"中文\"\n",
    "s6 = str(12345)\n",
    "print s1, s2, s3\n",
    "print s4\n",
    "print s5, s6"
   ]
  },
  {
   "cell_type": "markdown",
   "metadata": {
    "slideshow": {
     "slide_type": "subslide"
    }
   },
   "source": [
    "### str对象的常用方法\n",
    "- isdigit\n",
    "- islower\n",
    "- isupper\n",
    "- strip\n",
    "- count\n",
    "- index\n",
    "- replace\n",
    "- split\n",
    "- join"
   ]
  },
  {
   "cell_type": "code",
   "execution_count": 106,
   "metadata": {
    "slideshow": {
     "slide_type": "subslide"
    }
   },
   "outputs": [
    {
     "name": "stdout",
     "output_type": "stream",
     "text": [
      "True\n",
      "True\n",
      "True\n",
      " x y \n",
      "x y\n",
      "3\n",
      "0\n",
      "ccd\n",
      "['a', 'b', 'c', 'd']\n",
      "1abd2abd3\n"
     ]
    }
   ],
   "source": [
    "print '123'.isdigit()\n",
    "print 'abc'.islower()\n",
    "print 'ABD'.isupper()\n",
    "s = ' x y '\n",
    "print s\n",
    "print s.strip()\n",
    "print 'aaabcd'.count('a')\n",
    "print 'abcd'.index('a')\n",
    "print 'abd'.replace('ab', 'cc')\n",
    "s = 'a,b,c,d'\n",
    "s1 = s.split(',')\n",
    "print s1\n",
    "print 'abd'.join('123')\n"
   ]
  },
  {
   "cell_type": "markdown",
   "metadata": {
    "slideshow": {
     "slide_type": "subslide"
    }
   },
   "source": [
    "### 字符串格式化\n",
    "- %\n",
    "- format"
   ]
  },
  {
   "cell_type": "code",
   "execution_count": null,
   "metadata": {},
   "outputs": [],
   "source": [
    "print 'aaa %d bbb %f ccc %s' %(100, 1.1, 'sssssss')\n",
    "s1 = 'aaa {0} bbb {1} ccc {2}'\n",
    "s2 = 'aaa {0} bbb {1:f} ccc {2}'\n",
    "print s1.format(100, 1.1, 'ssssss')\n",
    "print s2.format(100, 1.1, 'ssssss')"
   ]
  },
  {
   "cell_type": "markdown",
   "metadata": {
    "slideshow": {
     "slide_type": "slide"
    }
   },
   "source": [
    "## 字节序列\n",
    "- 由8位字节数据构成的字符串\n",
    "- bytes，不可变类型\n",
    "- 定义方法\n",
    "    - b' '\n",
    "    - b\" \"\n",
    "    - b''' '''\n",
    "    - b\"\"\" \"\"\"\n",
    "    - bytes()\n",
    "- bytearray，可变类型\n",
    "- 定义方法\n",
    "    - bytearray()"
   ]
  }
 ],
 "metadata": {
  "celltoolbar": "Slideshow",
  "kernelspec": {
   "display_name": "Python 2",
   "language": "python",
   "name": "python2"
  },
  "language_info": {
   "codemirror_mode": {
    "name": "ipython",
    "version": 2
   },
   "file_extension": ".py",
   "mimetype": "text/x-python",
   "name": "python",
   "nbconvert_exporter": "python",
   "pygments_lexer": "ipython2",
   "version": "2.7.14"
  }
 },
 "nbformat": 4,
 "nbformat_minor": 2
}
