{
 "cells": [
  {
   "cell_type": "markdown",
   "metadata": {
    "collapsed": true,
    "slideshow": {
     "slide_type": "slide"
    }
   },
   "source": [
    "# <center>函数与函数式编程</center>"
   ]
  },
  {
   "cell_type": "markdown",
   "metadata": {
    "slideshow": {
     "slide_type": "slide"
    }
   },
   "source": [
    "- 函数的声明与调用\n",
    "- 参数\n",
    "- 返回值\n",
    "- 函数中的变量\n",
    "- 高阶函数\n",
    "- 函数装饰器\n",
    "- 其他重要函数\n",
    "    - eval、exec、compile\n",
    "    - map、reduce\n",
    "    - filter、sorted\n",
    "    - partial"
   ]
  },
  {
   "cell_type": "markdown",
   "metadata": {
    "collapsed": true,
    "slideshow": {
     "slide_type": "slide"
    }
   },
   "source": [
    "## 函数声明与调用\n",
    "- 声明\n",
    "  ```python\n",
    "  def fun_name(pram_list):\n",
    "      fun_body\n",
    "      return value  # 可选\n",
    "  ```\n",
    "- 调用\n",
    "  ```python\n",
    "  fun_name(param_list)\n",
    "  ```\n",
    "- 嵌套函数\n",
    "  ```python\n",
    "  def fun_a():\n",
    "      def fun_b():\n",
    "          pass\n",
    "      fun_b()\n",
    "      ...\n",
    "  ```"
   ]
  },
  {
   "cell_type": "markdown",
   "metadata": {
    "slideshow": {
     "slide_type": "slide"
    }
   },
   "source": [
    "## 参数\n",
    "- 形参和实参：声明函数时的参数称为形参，调用函数时的参数称为实参\n",
    "- 可选参数（参数默认值）\n",
    "  ```python\n",
    "  def fun(x, y=1):\n",
    "      return x + y\n",
    "  ```\n",
    "  函数定义时，__非可选参数必须在可选参数之前__\n",
    "- 位置参数和命名参数\n",
    "    - 位置参数：函数调用时按定义顺序传入参数\n",
    "    - 命名参数：函数调用时使用形参名，顺序可任意（关键字参数）\n",
    "  \n",
    "  ```python\n",
    "  fun_3(1, 2)  # 位置参数\n",
    "  fun_3(x=1, y=2)  # 命名参数\n",
    "  ```"
   ]
  },
  {
   "cell_type": "markdown",
   "metadata": {
    "slideshow": {
     "slide_type": "subslide"
    }
   },
   "source": [
    "- 强制命名参数：参数列表中星号后的参数在调用时必须使用命名参数（仅Python 3）\n",
    "  ```python\n",
    "  def fun(x, *, y):\n",
    "      pass\n",
    "  ```\n",
    "- 可变参数"
   ]
  },
  {
   "cell_type": "code",
   "execution_count": 126,
   "metadata": {},
   "outputs": [
    {
     "name": "stdout",
     "output_type": "stream",
     "text": [
      "1\n",
      "<type 'tuple'> (2, 3)\n",
      "<type 'dict'> {'a': 4, 'b': 5}\n"
     ]
    }
   ],
   "source": [
    "def fun1(x, *y, **z):\n",
    "    print x\n",
    "    print type(y), y\n",
    "    print type(z), z\n",
    "fun1(1, 2, 3, a=4, b=5)"
   ]
  },
  {
   "cell_type": "markdown",
   "metadata": {
    "slideshow": {
     "slide_type": "subslide"
    }
   },
   "source": [
    "- 参数解包"
   ]
  },
  {
   "cell_type": "code",
   "execution_count": null,
   "metadata": {},
   "outputs": [],
   "source": [
    "def fun2(x, y):\n",
    "    return x + y\n",
    "p1 = [1, 2]\n",
    "p2 = {'x':1, 'y':2}\n",
    "\n",
    "print fun2(*p1)   # 解包列表（或元组）\n",
    "print fun2(**p2)  # 解包字典"
   ]
  },
  {
   "cell_type": "markdown",
   "metadata": {
    "slideshow": {
     "slide_type": "slide"
    }
   },
   "source": [
    "## 函数返回值\n",
    "- 返回一个值\n",
    "- 返回多个值"
   ]
  },
  {
   "cell_type": "code",
   "execution_count": 127,
   "metadata": {},
   "outputs": [
    {
     "name": "stdout",
     "output_type": "stream",
     "text": [
      "<type 'tuple'>\n"
     ]
    }
   ],
   "source": [
    "def fun3(x, y):\n",
    "    return x+1, y+1\n",
    "print type(fun3(1, 2))"
   ]
  },
  {
   "cell_type": "markdown",
   "metadata": {
    "slideshow": {
     "slide_type": "slide"
    }
   },
   "source": [
    "## 函数中的变量\n",
    "- 全局变量与局部变量\n",
    "- global"
   ]
  },
  {
   "cell_type": "code",
   "execution_count": 128,
   "metadata": {},
   "outputs": [
    {
     "name": "stdout",
     "output_type": "stream",
     "text": [
      "2\n"
     ]
    }
   ],
   "source": [
    "x = 1\n",
    "def fun4():\n",
    "    global x\n",
    "    x = 2\n",
    "fun4()\n",
    "print x"
   ]
  },
  {
   "cell_type": "markdown",
   "metadata": {
    "slideshow": {
     "slide_type": "subslide"
    }
   },
   "source": [
    "- nonlocal （仅Python 3）\n",
    "```python\n",
    "def fun5():\n",
    "    x = 1\n",
    "    def fun5_1():\n",
    "        nonlocal x\n",
    "        x = 2\n",
    "    fun5_1()\n",
    "    return x\n",
    "```"
   ]
  },
  {
   "cell_type": "markdown",
   "metadata": {
    "slideshow": {
     "slide_type": "slide"
    }
   },
   "source": [
    "## 高阶函数\n",
    "在Python中函数也是对象，也有自己的属性、可以作为其他变量的值使用\n",
    "- 作为参数\n",
    "- 返回函数\n"
   ]
  },
  {
   "cell_type": "code",
   "execution_count": 129,
   "metadata": {},
   "outputs": [
    {
     "name": "stdout",
     "output_type": "stream",
     "text": [
      "2\n",
      "fun6\n",
      "函数6\n"
     ]
    }
   ],
   "source": [
    "# 函数作为变量的值\n",
    "def fun6(x, y):\n",
    "    \"\"\"函数6\"\"\"\n",
    "    return x + y\n",
    "f = fun6\n",
    "print f(1, 1)\n",
    "\n",
    "# 函数的属性 \n",
    "print f.__name__\n",
    "print f.__doc__"
   ]
  },
  {
   "cell_type": "code",
   "execution_count": null,
   "metadata": {
    "slideshow": {
     "slide_type": "subslide"
    }
   },
   "outputs": [],
   "source": [
    "# 函数作为参数\n",
    "def fun7(x, y):\n",
    "    return x + y\n",
    "def fun7_1(f):\n",
    "    return f(1, 1)\n",
    "print fun7_1(fun7)"
   ]
  },
  {
   "cell_type": "code",
   "execution_count": 130,
   "metadata": {
    "slideshow": {
     "slide_type": "subslide"
    }
   },
   "outputs": [
    {
     "name": "stdout",
     "output_type": "stream",
     "text": [
      "2\n"
     ]
    }
   ],
   "source": [
    "# 函数作为返回值\n",
    "def fun8():\n",
    "    def fun8_1(x, y):\n",
    "        return x + y\n",
    "    return fun8_1\n",
    "f = fun8()\n",
    "print f(1, 1)"
   ]
  },
  {
   "cell_type": "markdown",
   "metadata": {
    "slideshow": {
     "slide_type": "subslide"
    }
   },
   "source": [
    "- 匿名函数（lambda表达式）\n",
    "    - 是一种简便的、在同一行中定义函数的方法"
   ]
  },
  {
   "cell_type": "code",
   "execution_count": null,
   "metadata": {
    "scrolled": false
   },
   "outputs": [],
   "source": [
    "def fun9(f):\n",
    "    return f(1, 1)\n",
    "print fun9(lambda x, y: x + y)"
   ]
  },
  {
   "cell_type": "markdown",
   "metadata": {
    "slideshow": {
     "slide_type": "subslide"
    }
   },
   "source": [
    "- 运算符函数\n",
    "    - operator模型中定义了一系列函数，这些函数的功能与常见的运算符功能相同"
   ]
  },
  {
   "cell_type": "code",
   "execution_count": null,
   "metadata": {},
   "outputs": [],
   "source": [
    "import operator\n",
    "print fun9(operator.add)\n",
    "print fun9(operator.sub)\n",
    "print fun9(operator.mul)\n",
    "print fun9(operator.div)\n",
    "print fun9(operator.eq)"
   ]
  },
  {
   "cell_type": "markdown",
   "metadata": {
    "slideshow": {
     "slide_type": "slide"
    }
   },
   "source": [
    "## 函数装饰器\n",
    "- 函数装饰器\n",
    "    - 是一种特殊的函数，用于包装或装饰其他函数\n",
    "    - 在不改变__函数签名__的条件下改变函数的功能\n",
    "```python\n",
    "@decorator\n",
    "def fun():\n",
    "    pass\n",
    "```\n",
    "相当于\n",
    "```python\n",
    "fun = decorator(fun())\n",
    "```\n",
    "- 一个函数可使用多个装饰器"
   ]
  },
  {
   "cell_type": "code",
   "execution_count": 131,
   "metadata": {
    "slideshow": {
     "slide_type": "subslide"
    }
   },
   "outputs": [
    {
     "name": "stdout",
     "output_type": "stream",
     "text": [
      "2\n"
     ]
    }
   ],
   "source": [
    "# 装饰器实例\n",
    "def dec(f):\n",
    "    def wrapper(*args, **kw):\n",
    "        return f(*args, **kw)\n",
    "    return wrapper\n",
    "\n",
    "@dec\n",
    "def fun10(x, y):\n",
    "    \"\"\"doc\"\"\"\n",
    "    return x + y\n",
    "\n",
    "print fun10(1, 1)"
   ]
  },
  {
   "cell_type": "code",
   "execution_count": 132,
   "metadata": {
    "slideshow": {
     "slide_type": "subslide"
    }
   },
   "outputs": [
    {
     "name": "stdout",
     "output_type": "stream",
     "text": [
      "在函数 前 悄悄地干了很多事!!!\n",
      "run main function!!!!!\n",
      "在函数 后 悄悄地干了很多事!!!\n",
      "2\n"
     ]
    }
   ],
   "source": [
    "# 装饰器实例\n",
    "import functools\n",
    "def dec(f):\n",
    "    def wrapper(*args, **kw):\n",
    "        print \"在函数 前 悄悄地干了很多事!!!\"\n",
    "        fun = f(*args, **kw)\n",
    "        print \"在函数 后 悄悄地干了很多事!!!\"\n",
    "        return fun\n",
    "    return wrapper\n",
    "\n",
    "@dec\n",
    "def fun10(x, y):\n",
    "    print \"run main function!!!!!\"\n",
    "    return x + y\n",
    "\n",
    "print fun10(1, 1)"
   ]
  },
  {
   "cell_type": "markdown",
   "metadata": {
    "slideshow": {
     "slide_type": "subslide"
    }
   },
   "source": [
    "- 装饰器本身也可以有参数，需利用一个能返回更高阶函数的装饰器"
   ]
  },
  {
   "cell_type": "code",
   "execution_count": 133,
   "metadata": {},
   "outputs": [
    {
     "name": "stdout",
     "output_type": "stream",
     "text": [
      "program1 在函数 前 悄悄地干了很多事!!!\n",
      "run main function!!!!!\n",
      "program1 在函数 后 悄悄地干了很多事!!!\n",
      "2\n",
      "program1 在函数 前 悄悄地干了很多事!!!\n",
      "program1 在函数 后 悄悄地干了很多事!!!\n",
      "2\n"
     ]
    }
   ],
   "source": [
    "def decorator_arg(arg1, arg2):\n",
    "    def decorator(f):\n",
    "        def wrapper(*args, **kw):\n",
    "            print arg1, \"在函数 前 悄悄地干了很多事!!!\"\n",
    "            fun = f(*args, **kw)\n",
    "            print arg1, \"在函数 后 悄悄地干了很多事!!!\"\n",
    "            return fun\n",
    "        return wrapper\n",
    "    return decorator\n",
    "\n",
    "@decorator_arg(\"program1\", \"program2\")\n",
    "def fun10(x, y):\n",
    "    print \"run main function!!!!!\"\n",
    "    return x + y\n",
    "\n",
    "print fun10(1, 1)\n",
    "print decorator_arg(\"program1\", \"program1\")(f)(1, 1)"
   ]
  },
  {
   "cell_type": "markdown",
   "metadata": {
    "slideshow": {
     "slide_type": "subslide"
    }
   },
   "source": [
    "- 函数被装饰器处理之后，已不再是原来的函数，而是指向了装饰器所返回的那个函数。因此，函数的属性也都发生了变化。\n",
    "- 两种解决办法\n",
    "  - @functools.wraps装饰器\n",
    "  - functools.update_wrapper函数"
   ]
  },
  {
   "cell_type": "code",
   "execution_count": 137,
   "metadata": {
    "slideshow": {
     "slide_type": "subslide"
    }
   },
   "outputs": [
    {
     "name": "stdout",
     "output_type": "stream",
     "text": [
      "fun10\n",
      "fun10函数的文档\n"
     ]
    }
   ],
   "source": [
    "import functools\n",
    "def dec(f):\n",
    "    @functools.wraps(f)\n",
    "    def wrapper(*args, **kw):\n",
    "        \"\"\"rwapper函数的文档\"\"\"\n",
    "        print \"在函数 前 悄悄地干了很多事!!!\"\n",
    "        fun = f(*args, **kw)\n",
    "        print \"在函数 后 悄悄地干了很多事!!!\"\n",
    "        return fun\n",
    "    #return functools.update_wrapper(wrapper, f)\n",
    "    return wrapper\n",
    "\n",
    "@dec\n",
    "def fun10(x, y):\n",
    "    \"\"\"fun10函数的文档\"\"\"\n",
    "    print \"run main function!!!!!\"\n",
    "    return x + y\n",
    "\n",
    "print fun10.__name__\n",
    "print fun10.__doc__"
   ]
  },
  {
   "cell_type": "markdown",
   "metadata": {
    "slideshow": {
     "slide_type": "subslide"
    }
   },
   "source": [
    "- @functools.lru_cache 装饰器（仅Python 3）\n",
    "    - 缓存被装饰函数的执行结果\n",
    "\n",
    "```python\n",
    "import time\n",
    "import functools\n",
    "\n",
    "@functools.lru_cache(10)  # 参数为缓存个数，None表示不限\n",
    "def fun11(x):\n",
    "    time.sleep(5)\n",
    "    return x ** 2\n",
    "\n",
    "print(\"开始第一次\")\n",
    "print(fun11(2))\n",
    "print(\"开始第二次\")\n",
    "print(fun11(2))\n",
    "print(\"开始第三次\")\n",
    "print(fun11(2))\n",
    "```"
   ]
  },
  {
   "cell_type": "markdown",
   "metadata": {
    "slideshow": {
     "slide_type": "slide"
    }
   },
   "source": [
    "## 其他重要函数\n",
    "\n",
    "- eval(source) ：   运行字符串__表达式__，有返回结果\n",
    "- exec(source) ：  运行字符串__代码__，无返回结果\n",
    "- compile(source, filename, mode) ：   将字符串编译为字节码对象，然后可用eval或exec执行"
   ]
  },
  {
   "cell_type": "code",
   "execution_count": null,
   "metadata": {
    "slideshow": {
     "slide_type": "subslide"
    }
   },
   "outputs": [],
   "source": [
    "s1 = \"1 + 1\"\n",
    "s2 = \"print 1\"\n",
    "eval(s1)\n",
    "exec(s2)\n",
    "\n",
    "s3 = \"[0 , 1, 2]\"\n",
    "eval(s3)\n",
    "exec(s3)\n",
    "\n",
    "s4 = \"for i in range(10): print i\"\n",
    "o = compile(s4, '', 'exec')\n",
    "exec(o)"
   ]
  },
  {
   "cell_type": "markdown",
   "metadata": {
    "slideshow": {
     "slide_type": "subslide"
    }
   },
   "source": [
    "- map(fun, list) ：用函数fun处理list中的每个元素，返回一个列表\n",
    "- reduce(fun, list) ：函数 fun（有两个参数）处理 list的1、2个元素，再用fun处理得到的结果和第3个元素，以次类推，最后返回一个数值"
   ]
  },
  {
   "cell_type": "code",
   "execution_count": null,
   "metadata": {},
   "outputs": [],
   "source": [
    "ls = ['1', '2', '3', '4', '5']\n",
    "ls = map(int, ls)\n",
    "print ls\n",
    "print reduce(lambda x, y: x + y, ls)"
   ]
  },
  {
   "cell_type": "markdown",
   "metadata": {
    "slideshow": {
     "slide_type": "subslide"
    }
   },
   "source": [
    "- filter(fun, list) ： 利用函数fun过滤列表list，fun函数返回值为True或Flase\n",
    "- sorted(list, fun) ： 利用比较函数fun对list元素进行排序，函数fun返回值为1、0、-1，可缺省"
   ]
  },
  {
   "cell_type": "code",
   "execution_count": null,
   "metadata": {},
   "outputs": [],
   "source": [
    "ls = [1, 3, 5, 2, 4, 6, 3, 7, 9]\n",
    "def fun(x):\n",
    "    return x > 5\n",
    "print filter(fun, ls)\n",
    "\n",
    "ls = ['A6', 'Q7', 'X3']\n",
    "def fun(x, y):\n",
    "    if int(x[-1]) > int(y[-1]):\n",
    "        return 1\n",
    "    elif int(x[-1]) == int(y[-1]):\n",
    "        return 0\n",
    "    else:\n",
    "        return -1\n",
    "print sorted(ls, fun)"
   ]
  },
  {
   "cell_type": "markdown",
   "metadata": {
    "slideshow": {
     "slide_type": "subslide"
    }
   },
   "source": [
    "- functools.partial 偏函数，绑定函数的可选参数，返回一个新的函数"
   ]
  },
  {
   "cell_type": "code",
   "execution_count": null,
   "metadata": {},
   "outputs": [],
   "source": [
    "import functools\n",
    "import math\n",
    "\n",
    "e = functools.partial(math.pow, 2.71828182846)\n",
    "print e(2) "
   ]
  }
 ],
 "metadata": {
  "celltoolbar": "Slideshow",
  "kernelspec": {
   "display_name": "Python 2",
   "language": "python",
   "name": "python2"
  },
  "language_info": {
   "codemirror_mode": {
    "name": "ipython",
    "version": 2
   },
   "file_extension": ".py",
   "mimetype": "text/x-python",
   "name": "python",
   "nbconvert_exporter": "python",
   "pygments_lexer": "ipython2",
   "version": "2.7.13"
  }
 },
 "nbformat": 4,
 "nbformat_minor": 2
}
