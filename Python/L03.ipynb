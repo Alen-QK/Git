{
 "cells": [
  {
   "cell_type": "markdown",
   "metadata": {
    "slideshow": {
     "slide_type": "slide"
    }
   },
   "source": [
    "# <center>程序流程控制</center>\n"
   ]
  },
  {
   "cell_type": "markdown",
   "metadata": {
    "slideshow": {
     "slide_type": "slide"
    }
   },
   "source": [
    "## 选择"
   ]
  },
  {
   "cell_type": "code",
   "execution_count": 3,
   "metadata": {},
   "outputs": [
    {
     "name": "stdout",
     "output_type": "stream",
     "text": [
      "3\n",
      "不大于100\n"
     ]
    }
   ],
   "source": [
    "x = input()\n",
    "if x > 1000:\n",
    "    print \"大于1000\"\n",
    "elif x > 100:\n",
    "    print \"大于100\"\n",
    "else:\n",
    "    print \"不大于100\""
   ]
  },
  {
   "cell_type": "markdown",
   "metadata": {
    "slideshow": {
     "slide_type": "slide"
    }
   },
   "source": [
    "## 循环\n",
    "### 可迭代对象\n",
    "- str\n",
    "- list\n",
    "- tuple\n",
    "- dict\n",
    "- iterator\n",
    "- generator"
   ]
  },
  {
   "cell_type": "markdown",
   "metadata": {
    "slideshow": {
     "slide_type": "subslide"
    }
   },
   "source": [
    "### range\n",
    "\n",
    "- range 根据参数生成一个序列"
   ]
  },
  {
   "cell_type": "code",
   "execution_count": null,
   "metadata": {},
   "outputs": [],
   "source": [
    "print range(10)\n",
    "print range(1,10)\n",
    "print range(1,10,2)"
   ]
  },
  {
   "cell_type": "markdown",
   "metadata": {
    "slideshow": {
     "slide_type": "subslide"
    }
   },
   "source": [
    "### for循环\n",
    "```python\n",
    "for 变量 in 可迭代对象:\n",
    "    do something\n",
    "```"
   ]
  },
  {
   "cell_type": "code",
   "execution_count": null,
   "metadata": {
    "scrolled": false
   },
   "outputs": [],
   "source": [
    "for i in range(5):\n",
    "    print i"
   ]
  },
  {
   "cell_type": "code",
   "execution_count": null,
   "metadata": {},
   "outputs": [],
   "source": [
    "for i in [1,2,3,4,5]:\n",
    "    print i"
   ]
  },
  {
   "cell_type": "code",
   "execution_count": null,
   "metadata": {
    "scrolled": true
   },
   "outputs": [],
   "source": [
    "for s in ['aaa', 'bbbb', 'ccccc']:\n",
    "    print len(s)"
   ]
  },
  {
   "cell_type": "markdown",
   "metadata": {
    "slideshow": {
     "slide_type": "subslide"
    }
   },
   "source": [
    "### while循环\n",
    "```python\n",
    "while (条件表达式):\n",
    "    循环体\n",
    "```"
   ]
  },
  {
   "cell_type": "code",
   "execution_count": null,
   "metadata": {},
   "outputs": [],
   "source": [
    "x = 5\n",
    "while x > 0:\n",
    "    print x\n",
    "    x -= 1"
   ]
  },
  {
   "cell_type": "markdown",
   "metadata": {
    "slideshow": {
     "slide_type": "subslide"
    }
   },
   "source": [
    "### break\n",
    "- 跳出循环\n",
    "\n",
    "### continue\n",
    "- 跳至循环首"
   ]
  },
  {
   "cell_type": "code",
   "execution_count": null,
   "metadata": {},
   "outputs": [],
   "source": [
    "x = 10\n",
    "while True:\n",
    "    print x\n",
    "    x -= 1\n",
    "    if x >0:\n",
    "        continue\n",
    "    else:\n",
    "        break"
   ]
  },
  {
   "cell_type": "markdown",
   "metadata": {
    "slideshow": {
     "slide_type": "subslide"
    }
   },
   "source": [
    "### else子句\n",
    "- 若循环不被`break`中止则执行`else`子句\n",
    "\n",
    "```python\n",
    "for 变量 in 可迭代对象:\n",
    "    循环体\n",
    "else:\n",
    "    语句块\n",
    "```\n",
    "或\n",
    "```python\n",
    "while (表达式):\n",
    "    循环体\n",
    "else:\n",
    "    语句块\n",
    "```"
   ]
  },
  {
   "cell_type": "markdown",
   "metadata": {
    "slideshow": {
     "slide_type": "slide"
    }
   },
   "source": [
    "## 异常处理\n",
    "\n",
    "### 错误和异常的类型\n",
    "- 语法错误\n",
    "- 运行时错误\n",
    "- 逻辑错误"
   ]
  },
  {
   "cell_type": "markdown",
   "metadata": {
    "slideshow": {
     "slide_type": "subslide"
    }
   },
   "source": [
    "### 捕获并处理异常\n",
    "\n",
    "- 1\n",
    "```python\n",
    "try:\n",
    "    可能发生异常的语句\n",
    "except Exception:\n",
    "    处理异常的语句\n",
    "```"
   ]
  },
  {
   "cell_type": "markdown",
   "metadata": {
    "slideshow": {
     "slide_type": "subslide"
    }
   },
   "source": [
    "- 2\n",
    "```python\n",
    "try:\n",
    "    可能发生异常的语句\n",
    "except Exception1:\n",
    "    处理异常的语句\n",
    "except Exception2:\n",
    "    处理异常的语句\n",
    "except Exception3:\n",
    "    处理异常的语句\n",
    "```"
   ]
  },
  {
   "cell_type": "markdown",
   "metadata": {
    "slideshow": {
     "slide_type": "subslide"
    }
   },
   "source": [
    "- 3\n",
    "```python\n",
    "try:\n",
    "    可能发生异常的语句\n",
    "except Exception:\n",
    "    处理异常的语句\n",
    "else:\n",
    "    无异常时执行的语句\n",
    "finally:\n",
    "    不管是否有异常都执行的语句\n",
    "```"
   ]
  },
  {
   "cell_type": "markdown",
   "metadata": {
    "slideshow": {
     "slide_type": "subslide"
    }
   },
   "source": [
    "- 4\n",
    "```python\n",
    "try:\n",
    "    可能发生异常的语句\n",
    "except Exception:\n",
    "    处理异常的语句\n",
    "finally:\n",
    "    不管是否有异常都执行的语句\n",
    "```"
   ]
  },
  {
   "cell_type": "markdown",
   "metadata": {
    "slideshow": {
     "slide_type": "subslide"
    }
   },
   "source": [
    "- 5\n",
    "```python\n",
    "try:\n",
    "    可能发生异常的语句\n",
    "except Exception as e:\n",
    "    处理异常的语句\n",
    "```"
   ]
  },
  {
   "cell_type": "markdown",
   "metadata": {
    "slideshow": {
     "slide_type": "subslide"
    }
   },
   "source": [
    "- 6\n",
    "```python\n",
    "try:\n",
    "    可能发生异常的语句\n",
    "except (Exception1, Exception2):\n",
    "    处理异常的语句\n",
    "```"
   ]
  },
  {
   "cell_type": "code",
   "execution_count": null,
   "metadata": {},
   "outputs": [],
   "source": [
    "try:\n",
    "    x = 1.0/0\n",
    "except Exception as e:\n",
    "    print \"错\"\n",
    "    print e"
   ]
  },
  {
   "cell_type": "markdown",
   "metadata": {
    "slideshow": {
     "slide_type": "subslide"
    }
   },
   "source": [
    "### 异常的来源\n",
    "\n",
    "- python解释器\n",
    "    - 由程序错误而产生，比如 `1.0/0`\n",
    "- 代码\n",
    "    - 由代码主动抛出"
   ]
  },
  {
   "cell_type": "code",
   "execution_count": null,
   "metadata": {},
   "outputs": [],
   "source": [
    "number = input()\n",
    "if number == 0:\n",
    "    raise Exception(\"不能为0\")"
   ]
  },
  {
   "cell_type": "markdown",
   "metadata": {
    "slideshow": {
     "slide_type": "subslide"
    }
   },
   "source": [
    "### 异常类型\n",
    "<center><img src=\"./figures/fig3-9.jpeg\" width=\"800px\"/></center>"
   ]
  },
  {
   "cell_type": "markdown",
   "metadata": {
    "slideshow": {
     "slide_type": "subslide"
    }
   },
   "source": [
    "### 自定义异常\n",
    "- 自定义继承自内置异常的类"
   ]
  },
  {
   "cell_type": "code",
   "execution_count": null,
   "metadata": {},
   "outputs": [],
   "source": [
    "class MyError(Exception):\n",
    "    def __init__(self, data):\n",
    "        Exception.__init__(self, data)\n",
    "        self.data = data\n",
    "    def __str__(self):\n",
    "        return self.data"
   ]
  }
 ],
 "metadata": {
  "celltoolbar": "Slideshow",
  "kernelspec": {
   "display_name": "Python 2",
   "language": "python",
   "name": "python2"
  },
  "language_info": {
   "codemirror_mode": {
    "name": "ipython",
    "version": 2
   },
   "file_extension": ".py",
   "mimetype": "text/x-python",
   "name": "python",
   "nbconvert_exporter": "python",
   "pygments_lexer": "ipython2",
   "version": "2.7.14"
  }
 },
 "nbformat": 4,
 "nbformat_minor": 2
}
