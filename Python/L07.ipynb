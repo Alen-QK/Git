{
 "cells": [
  {
   "cell_type": "markdown",
   "metadata": {
    "slideshow": {
     "slide_type": "slide"
    }
   },
   "source": [
    "# <center>文件和流I/O</center>"
   ]
  },
  {
   "cell_type": "markdown",
   "metadata": {
    "slideshow": {
     "slide_type": "slide"
    }
   },
   "source": [
    "- 文件顺序读写\n",
    "- 文件随机读写\n",
    "- 异常处理\n",
    "- CSV文件\n",
    "- os模块文件访问\n",
    "- 序列化与反序列化"
   ]
  },
  {
   "cell_type": "markdown",
   "metadata": {
    "slideshow": {
     "slide_type": "slide"
    }
   },
   "source": [
    "## 文件顺序读写\n",
    "- 打开文件\n",
    "    - f = open(file, mode='rt', buffering=-1, encoding=None) \n",
    "    - mode: r 读，w 写，a 追加，b 二进制文件，+ 读写\n",
    "- 读取文件\n",
    "    - f.read() 读取全部文件\n",
    "    - f.readline() 读取文本文件的一行\n",
    "    - f.readlines() 读取全部内容，返回以行为元素的列表\n",
    "    - f.read(n) 读取二进制文件的n个字节，返回bytes对象\n"
   ]
  },
  {
   "cell_type": "markdown",
   "metadata": {
    "slideshow": {
     "slide_type": "subslide"
    }
   },
   "source": [
    "- 写入文件\n",
    "    - f.write(s) 写入文件文件或二进制文件\n",
    "    - f.writelines(lines) 向文件文件中写入多行\n",
    "    - f.flush() 缓冲区数据写入文件\n",
    "- 关闭文件\n",
    "    - f.close()"
   ]
  },
  {
   "cell_type": "code",
   "execution_count": null,
   "metadata": {
    "slideshow": {
     "slide_type": "subslide"
    }
   },
   "outputs": [],
   "source": [
    "f = open('file_test.txt')\n",
    "print f.readlines()\n",
    "f.close()\n",
    "\n",
    "f1 = open('file_test.txt', 'a')\n",
    "f1.write('\\nnew content')\n",
    "f1.close()\n",
    "\n",
    "f2 = open('file_test.txt')\n",
    "line = f2.readline()\n",
    "while line:\n",
    "    print line\n",
    "    line = f2.readline()\n",
    "f2.close()"
   ]
  },
  {
   "cell_type": "markdown",
   "metadata": {
    "slideshow": {
     "slide_type": "slide"
    }
   },
   "source": [
    "## 文件随机读写\n",
    "- 打开 f = open(file)\n",
    "- 定位 f.seek(n) n为偏移量\n",
    "- 读取 f.read()\n",
    "- 写入 f.wirte()\n",
    "- 关闭 f.close()"
   ]
  },
  {
   "cell_type": "markdown",
   "metadata": {
    "slideshow": {
     "slide_type": "slide"
    }
   },
   "source": [
    "## 异常处理\n",
    "- try ... except  finally\n",
    "- with\n",
    "    - 实现了上下文管理协议的对象都可使用with（即实现了__enter__()和__exit__()函数的对象）\n",
    "    - 自动调用这两个函数，确保后绪操作（打列的文件自动关闭）\n",
    "    - 简化代码"
   ]
  },
  {
   "cell_type": "code",
   "execution_count": 1,
   "metadata": {
    "scrolled": true,
    "slideshow": {
     "slide_type": "subslide"
    }
   },
   "outputs": [
    {
     "name": "stdout",
     "output_type": "stream",
     "text": [
      "[Errno 2] No such file or directory: 'filetest1.txt'\n"
     ]
    },
    {
     "ename": "NameError",
     "evalue": "name 'f' is not defined",
     "output_type": "error",
     "traceback": [
      "\u001b[0;31m---------------------------------------------------------------------------\u001b[0m",
      "\u001b[0;31mNameError\u001b[0m                                 Traceback (most recent call last)",
      "\u001b[0;32m<ipython-input-1-549bb458cd87>\u001b[0m in \u001b[0;36m<module>\u001b[0;34m()\u001b[0m\n\u001b[1;32m      5\u001b[0m     \u001b[0;32mprint\u001b[0m \u001b[0me\u001b[0m\u001b[0;34m\u001b[0m\u001b[0m\n\u001b[1;32m      6\u001b[0m \u001b[0;32mfinally\u001b[0m\u001b[0;34m:\u001b[0m\u001b[0;34m\u001b[0m\u001b[0m\n\u001b[0;32m----> 7\u001b[0;31m     \u001b[0mf\u001b[0m\u001b[0;34m.\u001b[0m\u001b[0mclose\u001b[0m\u001b[0;34m(\u001b[0m\u001b[0;34m)\u001b[0m\u001b[0;34m\u001b[0m\u001b[0m\n\u001b[0m",
      "\u001b[0;31mNameError\u001b[0m: name 'f' is not defined"
     ]
    }
   ],
   "source": [
    "try:\n",
    "    f = open('filetest1.txt')\n",
    "    print f.readlines()\n",
    "except Exception as e: # IOError\n",
    "    print e\n",
    "finally:\n",
    "    f.close() "
   ]
  },
  {
   "cell_type": "code",
   "execution_count": 2,
   "metadata": {
    "slideshow": {
     "slide_type": "subslide"
    }
   },
   "outputs": [
    {
     "ename": "IOError",
     "evalue": "[Errno 2] No such file or directory: 'file_test18.txt'",
     "output_type": "error",
     "traceback": [
      "\u001b[0;31m---------------------------------------------------------------------------\u001b[0m",
      "\u001b[0;31mIOError\u001b[0m                                   Traceback (most recent call last)",
      "\u001b[0;32m<ipython-input-2-2594c2b32044>\u001b[0m in \u001b[0;36m<module>\u001b[0;34m()\u001b[0m\n\u001b[0;32m----> 1\u001b[0;31m \u001b[0;32mwith\u001b[0m \u001b[0mopen\u001b[0m\u001b[0;34m(\u001b[0m\u001b[0;34m'file_test18.txt'\u001b[0m\u001b[0;34m)\u001b[0m \u001b[0;32mas\u001b[0m \u001b[0mf\u001b[0m\u001b[0;34m:\u001b[0m\u001b[0;34m\u001b[0m\u001b[0m\n\u001b[0m\u001b[1;32m      2\u001b[0m     \u001b[0;32mprint\u001b[0m \u001b[0mf\u001b[0m\u001b[0;34m.\u001b[0m\u001b[0mreadlines\u001b[0m\u001b[0;34m(\u001b[0m\u001b[0;34m)\u001b[0m\u001b[0;34m\u001b[0m\u001b[0m\n",
      "\u001b[0;31mIOError\u001b[0m: [Errno 2] No such file or directory: 'file_test18.txt'"
     ]
    }
   ],
   "source": [
    "with open('file_test18.txt') as f:\n",
    "    print f.readlines()"
   ]
  },
  {
   "cell_type": "markdown",
   "metadata": {
    "slideshow": {
     "slide_type": "slide"
    }
   },
   "source": [
    "## CSV文件\n",
    "- 流程\n",
    "    - import csv\n",
    "    - f = open(file)\n",
    "    - f_csv = csv.reader(f) 或者 f_csv = csv.writer(f)\n",
    "    - next(f_csv) 读取一行\n",
    "    - f_csv 为可迭代对象，迭代读取\n",
    "    - f.writerow(data) 写入一行\n",
    "    - f.writerows(datas) 写入多行\n",
    "    - f.close()\n",
    "- DictReader和DictWriter"
   ]
  },
  {
   "cell_type": "code",
   "execution_count": null,
   "metadata": {
    "slideshow": {
     "slide_type": "subslide"
    }
   },
   "outputs": [],
   "source": [
    "import csv\n",
    "f = open('csv_test.txt')\n",
    "f_csv = csv.reader(f)\n",
    "for l in f_csv:\n",
    "    print l\n",
    "f.close()\n",
    "\n",
    "data = [(11, 12, 13), (21, 22, 23), (31, 32, 33)]\n",
    "f = open('test.txt', 'w')\n",
    "f_csv = csv.writer(f)\n",
    "f_csv.writerows(data)\n",
    "f.close()"
   ]
  },
  {
   "cell_type": "markdown",
   "metadata": {
    "slideshow": {
     "slide_type": "slide"
    }
   },
   "source": [
    "## os模块文件访问\n",
    "- 文件读写（不建议使用）\n",
    "    - os.open\n",
    "    - os.write\n",
    "    - os.read\n",
    "    - os.lseek\n",
    "    - os.close\n",
    "- 文件夹访问\n",
    "    - os.listdir\n",
    "    - os.rename"
   ]
  },
  {
   "cell_type": "code",
   "execution_count": null,
   "metadata": {
    "slideshow": {
     "slide_type": "subslide"
    }
   },
   "outputs": [],
   "source": [
    "import os\n",
    "print os.listdir('.')"
   ]
  },
  {
   "cell_type": "markdown",
   "metadata": {
    "slideshow": {
     "slide_type": "slide"
    }
   },
   "source": [
    "## 序列化与反序列化\n",
    "- 将对象保存至文件，或者通过网络传输\n",
    "- pickle模块\n",
    "- 序列化\n",
    "    - pickle.dump\n",
    "- 反序列化\n",
    "    - pickle.load"
   ]
  },
  {
   "cell_type": "code",
   "execution_count": 48,
   "metadata": {
    "slideshow": {
     "slide_type": "subslide"
    }
   },
   "outputs": [
    {
     "name": "stdout",
     "output_type": "stream",
     "text": [
      "[1, 2, 3, 4, 5, 6]\n"
     ]
    }
   ],
   "source": [
    "import pickle\n",
    "data = [1, 2, 3, 4, 5, 6]\n",
    "f = open('test.dat', 'wb')\n",
    "pickle.dump(data, f)\n",
    "f.close()\n",
    "\n",
    "f = open('test.dat', 'rb')\n",
    "\n",
    "data = pickle.load(f)\n",
    "print data"
   ]
  }
 ],
 "metadata": {
  "celltoolbar": "Slideshow",
  "kernelspec": {
   "display_name": "Python 2",
   "language": "python",
   "name": "python2"
  },
  "language_info": {
   "codemirror_mode": {
    "name": "ipython",
    "version": 2
   },
   "file_extension": ".py",
   "mimetype": "text/x-python",
   "name": "python",
   "nbconvert_exporter": "python",
   "pygments_lexer": "ipython2",
   "version": "2.7.14"
  }
 },
 "nbformat": 4,
 "nbformat_minor": 2
}
