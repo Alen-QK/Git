{
 "cells": [
  {
   "cell_type": "markdown",
   "metadata": {
    "slideshow": {
     "slide_type": "slide"
    }
   },
   "source": [
    "# <center>Python语言概述</center>\n",
    "\n",
    "- Python语言简介\n",
    "- Python版本和开发环境\n",
    "- Python安装\n",
    "- Python运行\n",
    "- Python开发工具"
   ]
  },
  {
   "cell_type": "markdown",
   "metadata": {
    "slideshow": {
     "slide_type": "slide"
    }
   },
   "source": [
    "## Python语言简介\n",
    "### Python的特点\n",
    "- 简单\n",
    "- 高级\n",
    "- 面向对象\n",
    "- 高可扩展性\n",
    "- 免费开源\n",
    "- 可移植性\n",
    "- 丰富的库\n",
    "- 可嵌入性\n",
    "- 速度慢"
   ]
  },
  {
   "cell_type": "markdown",
   "metadata": {
    "slideshow": {
     "slide_type": "subslide"
    }
   },
   "source": [
    "### Python语言的应用范围\n",
    "- 操作系统管理\n",
    "- 科学计算\n",
    "- Web应用开发\n",
    "- 图形用户界面\n",
    "- 作为语言胶水"
   ]
  },
  {
   "cell_type": "markdown",
   "metadata": {
    "slideshow": {
     "slide_type": "subslide"
    }
   },
   "source": [
    "## Python的实现与版本\n",
    "- Cpython\n",
    "    - Python 2.7.x\n",
    "    - Python 3.x\n",
    "- Jython\n",
    "- PyPy\n",
    "- IronPython"
   ]
  },
  {
   "cell_type": "markdown",
   "metadata": {
    "slideshow": {
     "slide_type": "subslide"
    }
   },
   "source": [
    "## Python安装\n",
    "- Cpython\n",
    "    - https://www.python.org\n",
    "- ActivePython\n",
    "    - https://www.activestate.com/activepython\n",
    "- WinPython\n",
    "    - http://winpython.github.io\n",
    "- Python(x,y)\n",
    "    - http://python-xy.github.io\n",
    "- Anaconda\n",
    "    - https://www.anaconda.com"
   ]
  },
  {
   "cell_type": "markdown",
   "metadata": {
    "slideshow": {
     "slide_type": "subslide"
    }
   },
   "source": [
    "## Python运行与退出\n",
    "\n",
    "- 交互式"
   ]
  },
  {
   "cell_type": "code",
   "execution_count": 7,
   "metadata": {},
   "outputs": [
    {
     "name": "stdout",
     "output_type": "stream",
     "text": [
      "Hello Word!\n"
     ]
    }
   ],
   "source": [
    "print 'Hello Word!'"
   ]
  },
  {
   "cell_type": "markdown",
   "metadata": {},
   "source": [
    "- 脚本\n",
    "    - 在终端运行 `python python_script.py`\n",
    "    - 在IPython中运行 `run python_script.py`\n",
    "- 退出\n",
    "    - Ctrl+D\n",
    "    - `exit()`或`quit()`\n",
    "    - 在IPython中 `exit`或`quit`"
   ]
  },
  {
   "cell_type": "markdown",
   "metadata": {
    "slideshow": {
     "slide_type": "subslide"
    }
   },
   "source": [
    "## Python开发工具\n",
    "- IDLE\n",
    "- NotePad++\n",
    "- PyCharm\n",
    "- Eclipse+Pydev\n",
    "- Sublime\n",
    "- Ipython\n",
    "- Jupyter notebook"
   ]
  },
  {
   "cell_type": "markdown",
   "metadata": {
    "slideshow": {
     "slide_type": "subslide"
    }
   },
   "source": [
    "## Python编码\n",
    "\n",
    "- 脚本首行 `# -*- coding:utf8 -*-`\n",
    "- 脚本编码格式utf8"
   ]
  }
 ],
 "metadata": {
  "celltoolbar": "Slideshow",
  "kernelspec": {
   "display_name": "Python 2",
   "language": "python",
   "name": "python2"
  },
  "language_info": {
   "codemirror_mode": {
    "name": "ipython",
    "version": 2
   },
   "file_extension": ".py",
   "mimetype": "text/x-python",
   "name": "python",
   "nbconvert_exporter": "python",
   "pygments_lexer": "ipython2",
   "version": "2.7.14"
  }
 },
 "nbformat": 4,
 "nbformat_minor": 2
}
