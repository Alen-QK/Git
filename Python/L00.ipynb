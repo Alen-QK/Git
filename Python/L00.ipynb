{
 "cells": [
  {
   "cell_type": "markdown",
   "metadata": {
    "slideshow": {
     "slide_type": "slide"
    }
   },
   "source": [
    "# <center>计算机编程提高</center>\n",
    "### <center>Python</center>\n",
    "\n",
    "#### <center>刘臣</center>\n",
    "#### <center>2018</center>"
   ]
  },
  {
   "cell_type": "markdown",
   "metadata": {
    "slideshow": {
     "slide_type": "slide"
    }
   },
   "source": [
    "## 课程介绍\n",
    "### Python语言\n",
    "- 大数据+机器学习最火的语言\n",
    "\n",
    "<center><img src='./figures/fig1-1.png' width='800px'/></center>"
   ]
  },
  {
   "cell_type": "markdown",
   "metadata": {
    "slideshow": {
     "slide_type": "subslide"
    }
   },
   "source": [
    "<center><img src='./figures/fig1-2.png' width='800px'/></center>"
   ]
  },
  {
   "cell_type": "markdown",
   "metadata": {
    "slideshow": {
     "slide_type": "subslide"
    }
   },
   "source": [
    "## 课程内容\n",
    "- Python概述\n",
    "- 语言基础\n",
    "- Python数据类型与文件读写\n",
    "- Python函数与函数式编程\n",
    "- Python面向对象基础\n",
    "- Python面向对象进阶\n",
    "- Python高级特性\n",
    "- Python Web编程基础\n",
    "- Web编程框架web.py\n",
    "- web.py进阶\n",
    "- web.py部署"
   ]
  },
  {
   "cell_type": "markdown",
   "metadata": {
    "slideshow": {
     "slide_type": "subslide"
    }
   },
   "source": [
    "## 教材\n",
    "- Python程序设计教程\n",
    "\n",
    "## 参考资料\n",
    "- Python 精要参考（第二版）\n",
    "- A Byte of Python （简明Python教程）\n",
    "- Python基础教程，Magnus Lie Hetland\n",
    "- 菜鸟教程 http://www.runoob.com/python/python-tutorial.html\n",
    "- 廖雪峰Python教程 https://www.liaoxuefeng.com/wiki/001374738125095c955c1e6d8bb493182103fac9270762a000\n"
   ]
  },
  {
   "cell_type": "markdown",
   "metadata": {
    "slideshow": {
     "slide_type": "subslide"
    }
   },
   "source": [
    "## 考核\n",
    "\n",
    "- 期中成绩$\\times$40% + 期末成绩$\\times$50% + 其他 $\\times$ 10%\n",
    "- 考核方式\n",
    "    - 当面检查（3分钟）\n",
    "    - 技术（ABC）+ 功能（ABC）+ 亮点（ABC）+ 提问（ABC）\n",
    "- 考核时间\n",
    "    - 期中 5 - 10 周\n",
    "    - 期末 13 - 16 周\n",
    "- 免听"
   ]
  }
 ],
 "metadata": {
  "celltoolbar": "Slideshow",
  "kernelspec": {
   "display_name": "Python 2",
   "language": "python",
   "name": "python2"
  },
  "language_info": {
   "codemirror_mode": {
    "name": "ipython",
    "version": 2
   },
   "file_extension": ".py",
   "mimetype": "text/x-python",
   "name": "python",
   "nbconvert_exporter": "python",
   "pygments_lexer": "ipython2",
   "version": "2.7.14"
  }
 },
 "nbformat": 4,
 "nbformat_minor": 2
}
