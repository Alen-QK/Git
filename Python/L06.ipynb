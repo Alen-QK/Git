{
 "cells": [
  {
   "cell_type": "markdown",
   "metadata": {
    "slideshow": {
     "slide_type": "slide"
    }
   },
   "source": [
    "# <center>字典与集合</center>"
   ]
  },
  {
   "cell_type": "markdown",
   "metadata": {
    "slideshow": {
     "slide_type": "slide"
    }
   },
   "source": [
    "- 字典\n",
    "- 集合"
   ]
  },
  {
   "cell_type": "markdown",
   "metadata": {
    "slideshow": {
     "slide_type": "slide"
    }
   },
   "source": [
    "## 字典\n",
    "- 由“键-值“对构成的数据结构\n",
    "- hash\n",
    "    - 不可变对象都是可hash的，可变对象基本都不可hash\n",
    "    - 可变对象不能作为字典的键\n",
    "- 定义\n",
    "    - 花括号\n",
    "    - dict()\n",
    "- 字典没有index，使用key访问数据"
   ]
  },
  {
   "cell_type": "code",
   "execution_count": 4,
   "metadata": {
    "slideshow": {
     "slide_type": "subslide"
    }
   },
   "outputs": [
    {
     "name": "stdout",
     "output_type": "stream",
     "text": [
      "1\n",
      "1453079729188098211\n",
      "1\n"
     ]
    }
   ],
   "source": [
    "print hash(1)\n",
    "print hash('abc')\n",
    "#print hash([])\n",
    "d = {'k1': 1, 'k2': 2}\n",
    "print d['k1']"
   ]
  },
  {
   "cell_type": "markdown",
   "metadata": {
    "slideshow": {
     "slide_type": "subslide"
    }
   },
   "source": [
    "- 字典对象的常用方法\n",
    "    - keys\n",
    "    - values\n",
    "    - items\n",
    "    - copy\n",
    "    - get (与直接访问不同)\n",
    "- 其他方法\n",
    "    - len\n",
    "- 判断是key是否存在\n",
    "    - in"
   ]
  },
  {
   "cell_type": "code",
   "execution_count": 9,
   "metadata": {
    "slideshow": {
     "slide_type": "subslide"
    }
   },
   "outputs": [
    {
     "name": "stdout",
     "output_type": "stream",
     "text": [
      "['k2', 'k1']\n",
      "[2, 1]\n",
      "[('k2', 2), ('k1', 1)]\n",
      "2\n",
      "True False\n",
      "1\n",
      "None\n"
     ]
    }
   ],
   "source": [
    "d = {'k1': 1, 'k2': 2}\n",
    "print d.keys()\n",
    "print d.values()\n",
    "print d.items()\n",
    "print len(d)\n",
    "print 'k1' in d, 'key' in d\n",
    "print d['k1']\n",
    "print d.get('k11')"
   ]
  },
  {
   "cell_type": "markdown",
   "metadata": {
    "slideshow": {
     "slide_type": "slide"
    }
   },
   "source": [
    "## 集合\n",
    "- 一组无序且不重复元素\n",
    "- 类型\n",
    "    - 可变集合 set\n",
    "    - 不可变集合 frozeset\n",
    "- 定义\n",
    "    - 花括号\n",
    "    - set()\n",
    "- 集合是可迭代对象，但由于没有索引或key，因此不能直接访问元素"
   ]
  },
  {
   "cell_type": "markdown",
   "metadata": {
    "slideshow": {
     "slide_type": "subslide"
    }
   },
   "source": [
    "- set对象常用方法\n",
    "    - isdisjoint\n",
    "    - issubset\n",
    "    - issuperset\n",
    "- 其他方法\n",
    "    - in\n",
    "    - len, max, min, sum\n",
    "    - add, remove, clear\n",
    "- 集合运算\n",
    "    - 并：运算符 | 或方法 union\n",
    "    - 交：运算符 & 或方法 intersection\n",
    "    - 差：运算符 - 或方法 difference\n",
    "    - 对称差：运算符 ^ 或方法 symmetric_difference"
   ]
  },
  {
   "cell_type": "code",
   "execution_count": 9,
   "metadata": {
    "slideshow": {
     "slide_type": "subslide"
    }
   },
   "outputs": [
    {
     "name": "stdout",
     "output_type": "stream",
     "text": [
      "set([1, 2, 3, 4])\n"
     ]
    }
   ],
   "source": [
    "l = [1, 2, 3, 2, 1, 4, 3]\n",
    "s = set(l)\n",
    "print s"
   ]
  }
 ],
 "metadata": {
  "celltoolbar": "Slideshow",
  "kernelspec": {
   "display_name": "Python 2",
   "language": "python",
   "name": "python2"
  },
  "language_info": {
   "codemirror_mode": {
    "name": "ipython",
    "version": 2
   },
   "file_extension": ".py",
   "mimetype": "text/x-python",
   "name": "python",
   "nbconvert_exporter": "python",
   "pygments_lexer": "ipython2",
   "version": "2.7.14"
  }
 },
 "nbformat": 4,
 "nbformat_minor": 2
}
